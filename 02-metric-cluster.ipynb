{
 "cells": [
  {
   "cell_type": "markdown",
   "metadata": {},
   "source": [
    "__лабораторная работа N1:__  базовые методы машинного обучения, метрический подход\n",
    "\n",
    "__часть 2__: решение задачи кластеризации"
   ]
  },
  {
   "cell_type": "markdown",
   "metadata": {},
   "source": [
    "__цель:__ изучить возможности \"классических\" методов машинного обучения    \n",
    "      на примере инструментов библиотеки scikit-learn"
   ]
  },
  {
   "cell_type": "markdown",
   "metadata": {},
   "source": [
    "__порядок выполнения:__ для каждого типа задачи\n",
    "1. получить/сгенерировать данные \n",
    "2. изучить/визуализировать данные\n",
    "3. применить к ним соответствующий задаче метод,   \n",
    "4. к результатам модели применить методы оценки  "
   ]
  },
  {
   "cell_type": "code",
   "execution_count": 2,
   "metadata": {},
   "outputs": [],
   "source": [
    "import numpy as np"
   ]
  },
  {
   "cell_type": "markdown",
   "metadata": {},
   "source": [
    "## данные"
   ]
  },
  {
   "cell_type": "code",
   "execution_count": 5,
   "metadata": {},
   "outputs": [],
   "source": [
    "from sklearn import datasets\n",
    "#help(datasets)"
   ]
  },
  {
   "cell_type": "code",
   "execution_count": 80,
   "metadata": {},
   "outputs": [
    {
     "name": "stdout",
     "output_type": "stream",
     "text": [
      "       V1    V2       V3    V4\n",
      "0     2.0  50.0  12500.0  98.0\n",
      "1     0.0  13.0   3250.0  28.0\n",
      "2     1.0  16.0   4000.0  35.0\n",
      "3     2.0  20.0   5000.0  45.0\n",
      "4     1.0  24.0   6000.0  77.0\n",
      "..    ...   ...      ...   ...\n",
      "743  23.0   2.0    500.0  38.0\n",
      "744  21.0   2.0    500.0  52.0\n",
      "745  23.0   3.0    750.0  62.0\n",
      "746  39.0   1.0    250.0  39.0\n",
      "747  72.0   1.0    250.0  72.0\n",
      "\n",
      "[748 rows x 4 columns]\n"
     ]
    }
   ],
   "source": [
    "# выбираем один из вариантов\n",
    "#from sklearn.datasets import make_blobs # модельные данные \n",
    "\n",
    "# https://archive.ics.uci.edu\n",
    "# https://www.openml.org/search?type=data\n",
    "from sklearn.datasets import fetch_openml\n",
    "from pandas import DataFrame\n",
    "btsc = fetch_openml('blood-transfusion-service-center')\n",
    "btsc_data = btsc[\"data\"]\n",
    "\n",
    "print(btsc_data)"
   ]
  },
  {
   "cell_type": "code",
   "execution_count": 25,
   "metadata": {},
   "outputs": [
    {
     "name": "stdout",
     "output_type": "stream",
     "text": [
      "['V1', 'V2', 'V3', 'V4']\n",
      "    V1    V2       V3    V4 target\n",
      "0  2.0  50.0  12500.0  98.0      2\n",
      "1  0.0  13.0   3250.0  28.0      2\n",
      "2  1.0  16.0   4000.0  35.0      2\n",
      "3  2.0  20.0   5000.0  45.0      2\n",
      "4  1.0  24.0   6000.0  77.0      1\n",
      "5  4.0   4.0   1000.0   4.0      1\n",
      "6  2.0   7.0   1750.0  14.0      2\n",
      "7  1.0  12.0   3000.0  35.0      1\n",
      "8  2.0   9.0   2250.0  22.0      2\n",
      "9  5.0  46.0  11500.0  98.0      2\n",
      "['Class']\n",
      "0      2\n",
      "1      2\n",
      "2      2\n",
      "3      2\n",
      "4      1\n",
      "      ..\n",
      "743    1\n",
      "744    1\n",
      "745    1\n",
      "746    1\n",
      "747    1\n",
      "Name: Class, Length: 748, dtype: category\n",
      "Categories (2, object): ['1', '2']\n"
     ]
    },
    {
     "data": {
      "text/html": [
       "<div>\n",
       "<style scoped>\n",
       "    .dataframe tbody tr th:only-of-type {\n",
       "        vertical-align: middle;\n",
       "    }\n",
       "\n",
       "    .dataframe tbody tr th {\n",
       "        vertical-align: top;\n",
       "    }\n",
       "\n",
       "    .dataframe thead th {\n",
       "        text-align: right;\n",
       "    }\n",
       "</style>\n",
       "<table border=\"1\" class=\"dataframe\">\n",
       "  <thead>\n",
       "    <tr style=\"text-align: right;\">\n",
       "      <th></th>\n",
       "      <th>V1</th>\n",
       "      <th>V2</th>\n",
       "      <th>V3</th>\n",
       "      <th>V4</th>\n",
       "      <th>target</th>\n",
       "    </tr>\n",
       "  </thead>\n",
       "  <tbody>\n",
       "    <tr>\n",
       "      <th>0</th>\n",
       "      <td>2.0</td>\n",
       "      <td>50.0</td>\n",
       "      <td>12500.0</td>\n",
       "      <td>98.0</td>\n",
       "      <td>2</td>\n",
       "    </tr>\n",
       "    <tr>\n",
       "      <th>1</th>\n",
       "      <td>0.0</td>\n",
       "      <td>13.0</td>\n",
       "      <td>3250.0</td>\n",
       "      <td>28.0</td>\n",
       "      <td>2</td>\n",
       "    </tr>\n",
       "    <tr>\n",
       "      <th>2</th>\n",
       "      <td>1.0</td>\n",
       "      <td>16.0</td>\n",
       "      <td>4000.0</td>\n",
       "      <td>35.0</td>\n",
       "      <td>2</td>\n",
       "    </tr>\n",
       "    <tr>\n",
       "      <th>3</th>\n",
       "      <td>2.0</td>\n",
       "      <td>20.0</td>\n",
       "      <td>5000.0</td>\n",
       "      <td>45.0</td>\n",
       "      <td>2</td>\n",
       "    </tr>\n",
       "    <tr>\n",
       "      <th>4</th>\n",
       "      <td>1.0</td>\n",
       "      <td>24.0</td>\n",
       "      <td>6000.0</td>\n",
       "      <td>77.0</td>\n",
       "      <td>1</td>\n",
       "    </tr>\n",
       "    <tr>\n",
       "      <th>...</th>\n",
       "      <td>...</td>\n",
       "      <td>...</td>\n",
       "      <td>...</td>\n",
       "      <td>...</td>\n",
       "      <td>...</td>\n",
       "    </tr>\n",
       "    <tr>\n",
       "      <th>743</th>\n",
       "      <td>23.0</td>\n",
       "      <td>2.0</td>\n",
       "      <td>500.0</td>\n",
       "      <td>38.0</td>\n",
       "      <td>1</td>\n",
       "    </tr>\n",
       "    <tr>\n",
       "      <th>744</th>\n",
       "      <td>21.0</td>\n",
       "      <td>2.0</td>\n",
       "      <td>500.0</td>\n",
       "      <td>52.0</td>\n",
       "      <td>1</td>\n",
       "    </tr>\n",
       "    <tr>\n",
       "      <th>745</th>\n",
       "      <td>23.0</td>\n",
       "      <td>3.0</td>\n",
       "      <td>750.0</td>\n",
       "      <td>62.0</td>\n",
       "      <td>1</td>\n",
       "    </tr>\n",
       "    <tr>\n",
       "      <th>746</th>\n",
       "      <td>39.0</td>\n",
       "      <td>1.0</td>\n",
       "      <td>250.0</td>\n",
       "      <td>39.0</td>\n",
       "      <td>1</td>\n",
       "    </tr>\n",
       "    <tr>\n",
       "      <th>747</th>\n",
       "      <td>72.0</td>\n",
       "      <td>1.0</td>\n",
       "      <td>250.0</td>\n",
       "      <td>72.0</td>\n",
       "      <td>1</td>\n",
       "    </tr>\n",
       "  </tbody>\n",
       "</table>\n",
       "<p>748 rows × 5 columns</p>\n",
       "</div>"
      ],
      "text/plain": [
       "       V1    V2       V3    V4 target\n",
       "0     2.0  50.0  12500.0  98.0      2\n",
       "1     0.0  13.0   3250.0  28.0      2\n",
       "2     1.0  16.0   4000.0  35.0      2\n",
       "3     2.0  20.0   5000.0  45.0      2\n",
       "4     1.0  24.0   6000.0  77.0      1\n",
       "..    ...   ...      ...   ...    ...\n",
       "743  23.0   2.0    500.0  38.0      1\n",
       "744  21.0   2.0    500.0  52.0      1\n",
       "745  23.0   3.0    750.0  62.0      1\n",
       "746  39.0   1.0    250.0  39.0      1\n",
       "747  72.0   1.0    250.0  72.0      1\n",
       "\n",
       "[748 rows x 5 columns]"
      ]
     },
     "execution_count": 25,
     "metadata": {},
     "output_type": "execute_result"
    }
   ],
   "source": [
    "# изучение/визуализация данных\n",
    "import matplotlib.pyplot as plt\n",
    "from sklearn.preprocessing import StandardScaler\n",
    "from sklearn.model_selection import train_test_split\n",
    "# Смотрим на названия переменных\n",
    "print (btsc.feature_names)\n",
    "# Смотрим на данные, выводим 10 первых строк: \n",
    "print(btsc.data[:10] )\n",
    "# Смотрим на целевую переменную:\n",
    "print (btsc.target_names)\n",
    "print (btsc.target)\n",
    "\n",
    "btsc_frame = DataFrame(btsc.data)\n",
    "# Добавляем столбец с целевой переменной: \n",
    "btsc_frame['target'] = btsc.target\n",
    "btsc_frame\n"
   ]
  },
  {
   "cell_type": "markdown",
   "metadata": {},
   "source": [
    "## загружаем и применяем модель кластеризатора"
   ]
  },
  {
   "cell_type": "code",
   "execution_count": 125,
   "metadata": {},
   "outputs": [
    {
     "data": {
      "image/png": "[encoded data removed]",
      "text/plain": [
       "<Figure size 640x480 with 1 Axes>"
      ]
     },
     "metadata": {},
     "output_type": "display_data"
    },
    {
     "data": {
      "image/png": "[encoded data removed]",
      "text/plain": [
       "<Figure size 640x480 with 1 Axes>"
      ]
     },
     "metadata": {},
     "output_type": "display_data"
    },
    {
     "name": "stdout",
     "output_type": "stream",
     "text": [
      "[[5.93749466 5.95944663 5.08229754]\n",
      " [1.89394804 2.0075978  2.05014129]\n",
      " [1.03901763 5.13944956 5.00006395]]\n",
      "Estimated clusters: 3\n"
     ]
    },
    {
     "data": {
      "image/png": "[encoded data removed]",
      "text/plain": [
       "<Figure size 640x480 with 1 Axes>"
      ]
     },
     "metadata": {},
     "output_type": "display_data"
    },
    {
     "data": {
      "text/plain": [
       "DBSCAN(eps=3, min_samples=2)"
      ]
     },
     "execution_count": 125,
     "metadata": {},
     "output_type": "execute_result"
    }
   ],
   "source": [
    "from sklearn.cluster import KMeans\n",
    "# generate random dataframe\n",
    "df = DataFrame({'x': np.random.randint(1, 100, 25), 'y': np.random.randint(1, 100, 25)}, columns=['x', 'y'])\n",
    "# cluster\n",
    "clustered = model.fit_predict(df)\n",
    "# plot results\n",
    "plt.scatter(df['x'], df['y'], c=clustered)\n",
    "plt.show()\n",
    "\n",
    "from sklearn.cluster import MeanShift\n",
    "from sklearn.datasets import make_blobs\n",
    "position = [[6,6,5],[2,2,2],[1,5,5]]\n",
    "X,_=make_blobs(n_samples=200,centers=position,cluster_std=0.5)\n",
    "plt.scatter(X[:,0],X[:,1])\n",
    "plt.show()\n",
    "\n",
    "ms = MeanShift()\n",
    "ms.fit(X)\n",
    "labels = ms.labels_\n",
    "cluster_centers = ms.cluster_centers_\n",
    "print(cluster_centers)\n",
    "n_clusters_ = len(np.unique(labels))\n",
    "\n",
    "print(\"Estimated clusters:\", n_clusters_)\n",
    "\n",
    "for i in range(len(X)):\n",
    "    plt.plot(X[i][0], X[i][1], colors[labels[i]], markersize = 3)\n",
    "plt.scatter(cluster_centers[:,0],cluster_centers[:,1],\n",
    "           marker=\".\",color='k', s=20, linewidths = 5, zorder=10)\n",
    "plt.show()\n",
    "\n",
    "from sklearn.cluster import DBSCAN\n",
    "X = np.array([[1, 2], [2, 2], [2, 3], [8, 7], [8, 8], [25, 80]])\n",
    "clustering = DBSCAN(eps=3, min_samples=2).fit(X)\n",
    "clustering.labels_\n",
    "clustering\n"
   ]
  },
  {
   "cell_type": "markdown",
   "metadata": {},
   "source": [
    "## оценка кластеризации"
   ]
  },
  {
   "cell_type": "code",
   "execution_count": 126,
   "metadata": {},
   "outputs": [
    {
     "data": {
      "text/plain": [
       "0.07779860543221871"
      ]
     },
     "execution_count": 126,
     "metadata": {},
     "output_type": "execute_result"
    }
   ],
   "source": [
    "from sklearn.metrics import silhouette_score # считаем метрику качества\n",
    "# отношение внутрикластерного и межкластерного расстояний\n",
    "silhouette_score(x,y)"
   ]
  },
  {
   "cell_type": "code",
   "execution_count": null,
   "metadata": {},
   "outputs": [],
   "source": []
  }
 ],
 "metadata": {
  "kernelspec": {
   "display_name": "Python 3 (ipykernel)",
   "language": "python",
   "name": "python3"
  },
  "language_info": {
   "codemirror_mode": {
    "name": "ipython",
    "version": 3
   },
   "file_extension": ".py",
   "mimetype": "text/x-python",
   "name": "python",
   "nbconvert_exporter": "python",
   "pygments_lexer": "ipython3",
   "version": "3.9.13"
  },
  "toc": {
   "base_numbering": 1,
   "nav_menu": {},
   "number_sections": true,
   "sideBar": true,
   "skip_h1_title": false,
   "title_cell": "Table of Contents",
   "title_sidebar": "Contents",
   "toc_cell": false,
   "toc_position": {
    "height": "calc(100% - 180px)",
    "left": "10px",
    "top": "150px",
    "width": "247.594px"
   },
   "toc_section_display": "block",
   "toc_window_display": false
  }
 },
 "nbformat": 4,
 "nbformat_minor": 2
}
